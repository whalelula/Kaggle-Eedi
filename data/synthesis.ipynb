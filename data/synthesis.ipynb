{
 "cells": [
  {
   "cell_type": "markdown",
   "metadata": {},
   "source": [
    "## 1\\Setup"
   ]
  },
  {
   "cell_type": "code",
   "execution_count": 1,
   "metadata": {
    "execution": {
     "iopub.execute_input": "2024-12-29T03:36:23.966045Z",
     "iopub.status.busy": "2024-12-29T03:36:23.965629Z",
     "iopub.status.idle": "2024-12-29T03:36:40.469428Z",
     "shell.execute_reply": "2024-12-29T03:36:40.468157Z",
     "shell.execute_reply.started": "2024-12-29T03:36:23.966015Z"
    },
    "trusted": true
   },
   "outputs": [
    {
     "name": "stdout",
     "output_type": "stream",
     "text": [
      "Defaulting to user installation because normal site-packages is not writeableNote: you may need to restart the kernel to use updated packages.\n",
      "\n",
      "Requirement already satisfied: openai in c:\\users\\lunaw\\appdata\\roaming\\python\\python311\\site-packages (1.34.0)\n",
      "Requirement already satisfied: anyio<5,>=3.5.0 in d:\\programdata\\anaconda\\lib\\site-packages (from openai) (4.2.0)\n",
      "Requirement already satisfied: distro<2,>=1.7.0 in d:\\programdata\\anaconda\\lib\\site-packages (from openai) (1.8.0)\n",
      "Requirement already satisfied: httpx<1,>=0.23.0 in c:\\users\\lunaw\\appdata\\roaming\\python\\python311\\site-packages (from openai) (0.27.0)\n",
      "Requirement already satisfied: pydantic<3,>=1.9.0 in c:\\users\\lunaw\\appdata\\roaming\\python\\python311\\site-packages (from openai) (2.10.4)\n",
      "Requirement already satisfied: sniffio in d:\\programdata\\anaconda\\lib\\site-packages (from openai) (1.3.0)\n",
      "Requirement already satisfied: tqdm>4 in c:\\users\\lunaw\\appdata\\roaming\\python\\python311\\site-packages (from openai) (4.67.1)\n",
      "Requirement already satisfied: typing-extensions<5,>=4.7 in c:\\users\\lunaw\\appdata\\roaming\\python\\python311\\site-packages (from openai) (4.12.2)\n",
      "Requirement already satisfied: idna>=2.8 in d:\\programdata\\anaconda\\lib\\site-packages (from anyio<5,>=3.5.0->openai) (3.4)\n",
      "Requirement already satisfied: certifi in d:\\programdata\\anaconda\\lib\\site-packages (from httpx<1,>=0.23.0->openai) (2024.2.2)\n",
      "Requirement already satisfied: httpcore==1.* in c:\\users\\lunaw\\appdata\\roaming\\python\\python311\\site-packages (from httpx<1,>=0.23.0->openai) (1.0.5)\n",
      "Requirement already satisfied: h11<0.15,>=0.13 in c:\\users\\lunaw\\appdata\\roaming\\python\\python311\\site-packages (from httpcore==1.*->httpx<1,>=0.23.0->openai) (0.14.0)\n",
      "Requirement already satisfied: annotated-types>=0.6.0 in c:\\users\\lunaw\\appdata\\roaming\\python\\python311\\site-packages (from pydantic<3,>=1.9.0->openai) (0.7.0)\n",
      "Requirement already satisfied: pydantic-core==2.27.2 in c:\\users\\lunaw\\appdata\\roaming\\python\\python311\\site-packages (from pydantic<3,>=1.9.0->openai) (2.27.2)\n",
      "Requirement already satisfied: colorama in d:\\programdata\\anaconda\\lib\\site-packages (from tqdm>4->openai) (0.4.6)\n",
      "Defaulting to user installation because normal site-packages is not writeable\n",
      "Requirement already satisfied: pandas in d:\\programdata\\anaconda\\lib\\site-packages (2.1.4)\n",
      "Requirement already satisfied: numpy<2,>=1.23.2 in d:\\programdata\\anaconda\\lib\\site-packages (from pandas) (1.26.4)\n",
      "Requirement already satisfied: python-dateutil>=2.8.2 in d:\\programdata\\anaconda\\lib\\site-packages (from pandas) (2.8.2)\n",
      "Requirement already satisfied: pytz>=2020.1 in d:\\programdata\\anaconda\\lib\\site-packages (from pandas) (2023.3.post1)\n",
      "Requirement already satisfied: tzdata>=2022.1 in d:\\programdata\\anaconda\\lib\\site-packages (from pandas) (2023.3)\n",
      "Requirement already satisfied: six>=1.5 in d:\\programdata\\anaconda\\lib\\site-packages (from python-dateutil>=2.8.2->pandas) (1.16.0)\n",
      "Note: you may need to restart the kernel to use updated packages.\n",
      "Defaulting to user installation because normal site-packages is not writeable\n",
      "Requirement already satisfied: scikit-learn in d:\\programdata\\anaconda\\lib\\site-packages (1.2.2)\n",
      "Requirement already satisfied: numpy>=1.17.3 in d:\\programdata\\anaconda\\lib\\site-packages (from scikit-learn) (1.26.4)\n",
      "Requirement already satisfied: scipy>=1.3.2 in d:\\programdata\\anaconda\\lib\\site-packages (from scikit-learn) (1.11.4)\n",
      "Requirement already satisfied: joblib>=1.1.1 in d:\\programdata\\anaconda\\lib\\site-packages (from scikit-learn) (1.2.0)\n",
      "Requirement already satisfied: threadpoolctl>=2.0.0 in d:\\programdata\\anaconda\\lib\\site-packages (from scikit-learn) (2.2.0)\n",
      "Note: you may need to restart the kernel to use updated packages.\n",
      "Defaulting to user installation because normal site-packages is not writeable\n",
      "Requirement already satisfied: matplotlib in d:\\programdata\\anaconda\\lib\\site-packages (3.8.0)\n",
      "Requirement already satisfied: contourpy>=1.0.1 in d:\\programdata\\anaconda\\lib\\site-packages (from matplotlib) (1.2.0)\n",
      "Requirement already satisfied: cycler>=0.10 in d:\\programdata\\anaconda\\lib\\site-packages (from matplotlib) (0.11.0)\n",
      "Requirement already satisfied: fonttools>=4.22.0 in d:\\programdata\\anaconda\\lib\\site-packages (from matplotlib) (4.25.0)\n",
      "Requirement already satisfied: kiwisolver>=1.0.1 in d:\\programdata\\anaconda\\lib\\site-packages (from matplotlib) (1.4.4)\n",
      "Requirement already satisfied: numpy<2,>=1.21 in d:\\programdata\\anaconda\\lib\\site-packages (from matplotlib) (1.26.4)\n",
      "Requirement already satisfied: packaging>=20.0 in d:\\programdata\\anaconda\\lib\\site-packages (from matplotlib) (23.1)\n",
      "Requirement already satisfied: pillow>=6.2.0 in d:\\programdata\\anaconda\\lib\\site-packages (from matplotlib) (10.2.0)\n",
      "Requirement already satisfied: pyparsing>=2.3.1 in d:\\programdata\\anaconda\\lib\\site-packages (from matplotlib) (3.0.9)\n",
      "Requirement already satisfied: python-dateutil>=2.7 in d:\\programdata\\anaconda\\lib\\site-packages (from matplotlib) (2.8.2)\n",
      "Requirement already satisfied: six>=1.5 in d:\\programdata\\anaconda\\lib\\site-packages (from python-dateutil>=2.7->matplotlib) (1.16.0)\n",
      "Note: you may need to restart the kernel to use updated packages.\n"
     ]
    }
   ],
   "source": [
    "%pip install openai\n",
    "%pip install pandas\n",
    "%pip install scikit-learn\n",
    "%pip install matplotlib"
   ]
  },
  {
   "cell_type": "code",
   "execution_count": 2,
   "metadata": {},
   "outputs": [
    {
     "name": "stdout",
     "output_type": "stream",
     "text": [
      "Defaulting to user installation because normal site-packages is not writeable\n",
      "Requirement already satisfied: kagglehub in c:\\users\\lunaw\\appdata\\roaming\\python\\python311\\site-packages (0.3.7)\n",
      "Requirement already satisfied: model-signing in c:\\users\\lunaw\\appdata\\roaming\\python\\python311\\site-packages (from kagglehub) (0.2.0)\n",
      "Requirement already satisfied: packaging in d:\\programdata\\anaconda\\lib\\site-packages (from kagglehub) (23.1)\n",
      "Requirement already satisfied: requests in c:\\users\\lunaw\\appdata\\roaming\\python\\python311\\site-packages (from kagglehub) (2.32.3)\n",
      "Requirement already satisfied: tqdm in c:\\users\\lunaw\\appdata\\roaming\\python\\python311\\site-packages (from kagglehub) (4.67.1)\n",
      "Requirement already satisfied: cryptography in c:\\users\\lunaw\\appdata\\roaming\\python\\python311\\site-packages (from model-signing->kagglehub) (44.0.0)\n",
      "Requirement already satisfied: in-toto-attestation in c:\\users\\lunaw\\appdata\\roaming\\python\\python311\\site-packages (from model-signing->kagglehub) (0.9.3)\n",
      "Requirement already satisfied: sigstore in c:\\users\\lunaw\\appdata\\roaming\\python\\python311\\site-packages (from model-signing->kagglehub) (3.6.1)\n",
      "Requirement already satisfied: typing-extensions in c:\\users\\lunaw\\appdata\\roaming\\python\\python311\\site-packages (from model-signing->kagglehub) (4.12.2)\n",
      "Requirement already satisfied: charset-normalizer<4,>=2 in d:\\programdata\\anaconda\\lib\\site-packages (from requests->kagglehub) (2.0.4)\n",
      "Requirement already satisfied: idna<4,>=2.5 in d:\\programdata\\anaconda\\lib\\site-packages (from requests->kagglehub) (3.4)\n",
      "Requirement already satisfied: urllib3<3,>=1.21.1 in d:\\programdata\\anaconda\\lib\\site-packages (from requests->kagglehub) (2.0.7)\n",
      "Requirement already satisfied: certifi>=2017.4.17 in d:\\programdata\\anaconda\\lib\\site-packages (from requests->kagglehub) (2024.2.2)\n",
      "Requirement already satisfied: colorama in d:\\programdata\\anaconda\\lib\\site-packages (from tqdm->kagglehub) (0.4.6)\n",
      "Requirement already satisfied: cffi>=1.12 in d:\\programdata\\anaconda\\lib\\site-packages (from cryptography->model-signing->kagglehub) (1.16.0)\n",
      "Requirement already satisfied: protobuf in d:\\programdata\\anaconda\\lib\\site-packages (from in-toto-attestation->model-signing->kagglehub) (3.20.3)\n",
      "Requirement already satisfied: id>=1.1.0 in c:\\users\\lunaw\\appdata\\roaming\\python\\python311\\site-packages (from sigstore->model-signing->kagglehub) (1.5.0)\n",
      "Requirement already satisfied: pyasn1~=0.6 in c:\\users\\lunaw\\appdata\\roaming\\python\\python311\\site-packages (from sigstore->model-signing->kagglehub) (0.6.1)\n",
      "Requirement already satisfied: pydantic<3,>=2 in c:\\users\\lunaw\\appdata\\roaming\\python\\python311\\site-packages (from sigstore->model-signing->kagglehub) (2.10.4)\n",
      "Requirement already satisfied: pyjwt>=2.1 in d:\\programdata\\anaconda\\lib\\site-packages (from sigstore->model-signing->kagglehub) (2.4.0)\n",
      "Requirement already satisfied: pyOpenSSL>=23.0.0 in c:\\users\\lunaw\\appdata\\roaming\\python\\python311\\site-packages (from sigstore->model-signing->kagglehub) (25.0.0)\n",
      "Requirement already satisfied: rich~=13.0 in d:\\programdata\\anaconda\\lib\\site-packages (from sigstore->model-signing->kagglehub) (13.3.5)\n",
      "Requirement already satisfied: rfc8785~=0.1.2 in c:\\users\\lunaw\\appdata\\roaming\\python\\python311\\site-packages (from sigstore->model-signing->kagglehub) (0.1.4)\n",
      "Requirement already satisfied: rfc3161-client~=0.1.2 in c:\\users\\lunaw\\appdata\\roaming\\python\\python311\\site-packages (from sigstore->model-signing->kagglehub) (0.1.2)\n",
      "Requirement already satisfied: sigstore-protobuf-specs==0.3.2 in c:\\users\\lunaw\\appdata\\roaming\\python\\python311\\site-packages (from sigstore->model-signing->kagglehub) (0.3.2)\n",
      "Requirement already satisfied: sigstore-rekor-types==0.0.18 in c:\\users\\lunaw\\appdata\\roaming\\python\\python311\\site-packages (from sigstore->model-signing->kagglehub) (0.0.18)\n",
      "Requirement already satisfied: tuf~=5.0 in c:\\users\\lunaw\\appdata\\roaming\\python\\python311\\site-packages (from sigstore->model-signing->kagglehub) (5.1.0)\n",
      "Requirement already satisfied: platformdirs~=4.2 in c:\\users\\lunaw\\appdata\\roaming\\python\\python311\\site-packages (from sigstore->model-signing->kagglehub) (4.3.6)\n",
      "Requirement already satisfied: betterproto==2.0.0b6 in c:\\users\\lunaw\\appdata\\roaming\\python\\python311\\site-packages (from sigstore-protobuf-specs==0.3.2->sigstore->model-signing->kagglehub) (2.0.0b6)\n",
      "Requirement already satisfied: grpclib<0.5.0,>=0.4.1 in c:\\users\\lunaw\\appdata\\roaming\\python\\python311\\site-packages (from betterproto==2.0.0b6->sigstore-protobuf-specs==0.3.2->sigstore->model-signing->kagglehub) (0.4.7)\n",
      "Requirement already satisfied: python-dateutil<3.0,>=2.8 in d:\\programdata\\anaconda\\lib\\site-packages (from betterproto==2.0.0b6->sigstore-protobuf-specs==0.3.2->sigstore->model-signing->kagglehub) (2.8.2)\n",
      "Requirement already satisfied: pycparser in d:\\programdata\\anaconda\\lib\\site-packages (from cffi>=1.12->cryptography->model-signing->kagglehub) (2.21)\n",
      "Requirement already satisfied: annotated-types>=0.6.0 in c:\\users\\lunaw\\appdata\\roaming\\python\\python311\\site-packages (from pydantic<3,>=2->sigstore->model-signing->kagglehub) (0.7.0)\n",
      "Requirement already satisfied: pydantic-core==2.27.2 in c:\\users\\lunaw\\appdata\\roaming\\python\\python311\\site-packages (from pydantic<3,>=2->sigstore->model-signing->kagglehub) (2.27.2)\n",
      "Requirement already satisfied: markdown-it-py<3.0.0,>=2.2.0 in d:\\programdata\\anaconda\\lib\\site-packages (from rich~=13.0->sigstore->model-signing->kagglehub) (2.2.0)\n",
      "Requirement already satisfied: pygments<3.0.0,>=2.13.0 in d:\\programdata\\anaconda\\lib\\site-packages (from rich~=13.0->sigstore->model-signing->kagglehub) (2.15.1)\n",
      "Requirement already satisfied: securesystemslib~=1.0 in c:\\users\\lunaw\\appdata\\roaming\\python\\python311\\site-packages (from tuf~=5.0->sigstore->model-signing->kagglehub) (1.2.0)\n",
      "Requirement already satisfied: mdurl~=0.1 in d:\\programdata\\anaconda\\lib\\site-packages (from markdown-it-py<3.0.0,>=2.2.0->rich~=13.0->sigstore->model-signing->kagglehub) (0.1.0)\n",
      "Requirement already satisfied: email-validator>=2.0.0 in c:\\users\\lunaw\\appdata\\roaming\\python\\python311\\site-packages (from pydantic[email]<3,>=2->sigstore-rekor-types==0.0.18->sigstore->model-signing->kagglehub) (2.2.0)\n",
      "Requirement already satisfied: dnspython>=2.0.0 in c:\\users\\lunaw\\appdata\\roaming\\python\\python311\\site-packages (from email-validator>=2.0.0->pydantic[email]<3,>=2->sigstore-rekor-types==0.0.18->sigstore->model-signing->kagglehub) (2.7.0)\n",
      "Requirement already satisfied: h2<5,>=3.1.0 in c:\\users\\lunaw\\appdata\\roaming\\python\\python311\\site-packages (from grpclib<0.5.0,>=0.4.1->betterproto==2.0.0b6->sigstore-protobuf-specs==0.3.2->sigstore->model-signing->kagglehub) (4.2.0)\n",
      "Requirement already satisfied: multidict in d:\\programdata\\anaconda\\lib\\site-packages (from grpclib<0.5.0,>=0.4.1->betterproto==2.0.0b6->sigstore-protobuf-specs==0.3.2->sigstore->model-signing->kagglehub) (6.0.4)\n",
      "Requirement already satisfied: six>=1.5 in d:\\programdata\\anaconda\\lib\\site-packages (from python-dateutil<3.0,>=2.8->betterproto==2.0.0b6->sigstore-protobuf-specs==0.3.2->sigstore->model-signing->kagglehub) (1.16.0)\n",
      "Requirement already satisfied: hyperframe<7,>=6.1 in c:\\users\\lunaw\\appdata\\roaming\\python\\python311\\site-packages (from h2<5,>=3.1.0->grpclib<0.5.0,>=0.4.1->betterproto==2.0.0b6->sigstore-protobuf-specs==0.3.2->sigstore->model-signing->kagglehub) (6.1.0)\n",
      "Requirement already satisfied: hpack<5,>=4.1 in c:\\users\\lunaw\\appdata\\roaming\\python\\python311\\site-packages (from h2<5,>=3.1.0->grpclib<0.5.0,>=0.4.1->betterproto==2.0.0b6->sigstore-protobuf-specs==0.3.2->sigstore->model-signing->kagglehub) (4.1.0)\n",
      "Note: you may need to restart the kernel to use updated packages.\n"
     ]
    }
   ],
   "source": [
    "%pip install kagglehub"
   ]
  },
  {
   "cell_type": "code",
   "execution_count": 3,
   "metadata": {
    "_cell_guid": "b1076dfc-b9ad-4769-8c92-a6c4dae69d19",
    "_uuid": "8f2839f25d086af736a60e9eeb907d3b93b6e0e5",
    "execution": {
     "iopub.execute_input": "2024-12-29T03:36:40.471934Z",
     "iopub.status.busy": "2024-12-29T03:36:40.471472Z",
     "iopub.status.idle": "2024-12-29T03:36:40.478123Z",
     "shell.execute_reply": "2024-12-29T03:36:40.476904Z",
     "shell.execute_reply.started": "2024-12-29T03:36:40.471902Z"
    },
    "trusted": true
   },
   "outputs": [],
   "source": [
    "import os\n",
    "import ast\n",
    "import pandas as pd\n",
    "import numpy as np\n",
    "import kagglehub\n",
    "import random\n",
    "from copy import deepcopy\n",
    "\n",
    "from openai import OpenAI\n",
    "import os\n",
    "import re\n",
    "import numpy as np\n",
    "import pandas as pd\n",
    "from sklearn.cluster import KMeans\n",
    "import matplotlib.pyplot as plt\n",
    "import json\n",
    "import matplotlib"
   ]
  },
  {
   "cell_type": "code",
   "execution_count": 4,
   "metadata": {
    "execution": {
     "iopub.execute_input": "2024-12-29T03:36:40.481143Z",
     "iopub.status.busy": "2024-12-29T03:36:40.480696Z",
     "iopub.status.idle": "2024-12-29T03:36:40.566327Z",
     "shell.execute_reply": "2024-12-29T03:36:40.565075Z",
     "shell.execute_reply.started": "2024-12-29T03:36:40.481113Z"
    },
    "trusted": true
   },
   "outputs": [],
   "source": [
    "datagen_model = \"gpt-4o\"\n",
    "api_key = '<yourkey>' \n",
    "\n",
    "client = OpenAI(api_key=os.environ.get(\"OPENAI_API_KEY\", api_key))\n",
    "\n",
    "BatchSize = 5 # For each gpt request, access BatchSize misconceptions"
   ]
  },
  {
   "cell_type": "markdown",
   "metadata": {},
   "source": [
    "## 2\\MisconceptionName Mapping"
   ]
  },
  {
   "cell_type": "code",
   "execution_count": 5,
   "metadata": {
    "execution": {
     "iopub.execute_input": "2024-12-29T03:36:40.568313Z",
     "iopub.status.busy": "2024-12-29T03:36:40.568015Z",
     "iopub.status.idle": "2024-12-29T03:36:40.612218Z",
     "shell.execute_reply": "2024-12-29T03:36:40.611234Z",
     "shell.execute_reply.started": "2024-12-29T03:36:40.568273Z"
    },
    "trusted": true
   },
   "outputs": [],
   "source": [
    "# data_dir = \"/kaggle/input/eedi-mining-misconceptions-in-mathematics\"\n",
    "data_dir = \"D:\\VSCode\\Kaggle_eedi_sorted\\data\"\n",
    "df = pd.read_csv(os.path.join(data_dir, \"train.csv\"))\n",
    "content_df = pd.read_csv(os.path.join(data_dir, \"misconception_mapping.csv\"))\n",
    "\n",
    "content_df[\"MisconceptionId\"] = content_df[\"MisconceptionId\"].astype(str)\n",
    "id2name = dict(zip(content_df[\"MisconceptionId\"], content_df[\"MisconceptionName\"]))"
   ]
  },
  {
   "cell_type": "code",
   "execution_count": 6,
   "metadata": {
    "execution": {
     "iopub.execute_input": "2024-12-29T03:36:40.613544Z",
     "iopub.status.busy": "2024-12-29T03:36:40.613268Z",
     "iopub.status.idle": "2024-12-29T03:36:40.624051Z",
     "shell.execute_reply": "2024-12-29T03:36:40.622894Z",
     "shell.execute_reply.started": "2024-12-29T03:36:40.613521Z"
    },
    "trusted": true
   },
   "outputs": [
    {
     "name": "stdout",
     "output_type": "stream",
     "text": [
      "Number of unique MisconceptionIds: 1604\n"
     ]
    }
   ],
   "source": [
    "misconception_ids = set()\n",
    "for col in [\"MisconceptionAId\", \"MisconceptionBId\", \"MisconceptionCId\", \"MisconceptionDId\"]:\n",
    "    misconception_ids.update(df[col].dropna().astype(int).unique())\n",
    "misconception_ids = list(map(str, misconception_ids))\n",
    "print(f\"Number of unique MisconceptionIds: {len(misconception_ids)}\")"
   ]
  },
  {
   "cell_type": "code",
   "execution_count": 7,
   "metadata": {
    "execution": {
     "iopub.execute_input": "2024-12-29T03:36:40.625318Z",
     "iopub.status.busy": "2024-12-29T03:36:40.625027Z",
     "iopub.status.idle": "2024-12-29T03:36:40.646929Z",
     "shell.execute_reply": "2024-12-29T03:36:40.645766Z",
     "shell.execute_reply.started": "2024-12-29T03:36:40.625295Z"
    },
    "trusted": true
   },
   "outputs": [
    {
     "data": {
      "text/plain": [
       "983"
      ]
     },
     "execution_count": 7,
     "metadata": {},
     "output_type": "execute_result"
    }
   ],
   "source": [
    "missing_ids = content_df[~content_df[\"MisconceptionId\"].isin(misconception_ids)][\"MisconceptionId\"].unique().tolist()\n",
    "len(missing_ids)"
   ]
  },
  {
   "cell_type": "code",
   "execution_count": 8,
   "metadata": {
    "execution": {
     "iopub.execute_input": "2024-12-29T03:36:40.648580Z",
     "iopub.status.busy": "2024-12-29T03:36:40.648206Z",
     "iopub.status.idle": "2024-12-29T03:36:40.666994Z",
     "shell.execute_reply": "2024-12-29T03:36:40.665835Z",
     "shell.execute_reply.started": "2024-12-29T03:36:40.648539Z"
    },
    "trusted": true
   },
   "outputs": [
    {
     "data": {
      "text/plain": [
       "2587"
      ]
     },
     "execution_count": 8,
     "metadata": {},
     "output_type": "execute_result"
    }
   ],
   "source": [
    "all_ids = missing_ids + misconception_ids\n",
    "len(all_ids)"
   ]
  },
  {
   "cell_type": "code",
   "execution_count": 9,
   "metadata": {
    "execution": {
     "iopub.execute_input": "2024-12-29T03:36:40.669727Z",
     "iopub.status.busy": "2024-12-29T03:36:40.669447Z",
     "iopub.status.idle": "2024-12-29T03:36:40.690738Z",
     "shell.execute_reply": "2024-12-29T03:36:40.689300Z",
     "shell.execute_reply.started": "2024-12-29T03:36:40.669704Z"
    },
    "trusted": true
   },
   "outputs": [
    {
     "name": "stdout",
     "output_type": "stream",
     "text": [
      "Number of unique MisconceptionIds: 1604\n"
     ]
    }
   ],
   "source": [
    "misconception_ids = set()\n",
    "for col in [\"MisconceptionAId\", \"MisconceptionBId\", \"MisconceptionCId\", \"MisconceptionDId\"]:\n",
    "    misconception_ids.update(df[col].dropna().astype(int).unique())\n",
    "misconception_ids = list(map(str, misconception_ids))\n",
    "print(f\"Number of unique MisconceptionIds: {len(misconception_ids)}\")"
   ]
  },
  {
   "cell_type": "code",
   "execution_count": 10,
   "metadata": {
    "execution": {
     "iopub.execute_input": "2024-12-29T03:36:40.692506Z",
     "iopub.status.busy": "2024-12-29T03:36:40.692212Z",
     "iopub.status.idle": "2024-12-29T03:36:40.727697Z",
     "shell.execute_reply": "2024-12-29T03:36:40.726655Z",
     "shell.execute_reply.started": "2024-12-29T03:36:40.692477Z"
    },
    "trusted": true
   },
   "outputs": [],
   "source": [
    "df = df.join(content_df,on='MisconceptionAId')\n",
    "df = df.drop('MisconceptionId',axis=1)\n",
    "df.columns.values[-1] = 'MisconceptionAName'\n",
    "df = df.join(content_df,on='MisconceptionBId')\n",
    "df = df.drop('MisconceptionId',axis=1)\n",
    "df.columns.values[-1] = 'MisconceptionBName'\n",
    "df = df.join(content_df,on='MisconceptionCId')\n",
    "df = df.drop('MisconceptionId',axis=1)\n",
    "df.columns.values[-1] = 'MisconceptionCName'\n",
    "df = df.join(content_df,on='MisconceptionDId')\n",
    "df = df.drop('MisconceptionId',axis=1)\n",
    "df.columns.values[-1] = 'MisconceptionDName'"
   ]
  },
  {
   "cell_type": "markdown",
   "metadata": {},
   "source": [
    "## 3\\ misconception clustering"
   ]
  },
  {
   "cell_type": "code",
   "execution_count": null,
   "metadata": {},
   "outputs": [],
   "source": []
  },
  {
   "cell_type": "markdown",
   "metadata": {},
   "source": [
    "## 4\\prompt and data"
   ]
  },
  {
   "cell_type": "code",
   "execution_count": 50,
   "metadata": {
    "execution": {
     "iopub.execute_input": "2024-12-29T03:36:40.729157Z",
     "iopub.status.busy": "2024-12-29T03:36:40.728848Z",
     "iopub.status.idle": "2024-12-29T03:36:40.739879Z",
     "shell.execute_reply": "2024-12-29T03:36:40.738368Z",
     "shell.execute_reply.started": "2024-12-29T03:36:40.729131Z"
    },
    "trusted": true
   },
   "outputs": [],
   "source": [
    "def gen_reference_mcq(qid_list,df):\n",
    "    qlist = []\n",
    "    for q in qid_list:\n",
    "        SubjectName = df.loc[q,'SubjectName']\n",
    "        ConstructName = df.loc[q,'ConstructName']\n",
    "        QuestionText = df.loc[q,'QuestionText']\n",
    "        AnswerAText = df.loc[q,'AnswerAText']\n",
    "        AnswerBText = df.loc[q,'AnswerBText']\n",
    "        AnswerCText = df.loc[q,'AnswerCText']\n",
    "        AnswerDText = df.loc[q,'AnswerDText']\n",
    "        CorrectAnswer = df.loc[q,'CorrectAnswer']\n",
    "        # A_ifcorrect = \"correct\" if df.loc[q, 'CorrectAnswer'] == 'A' else \"incorrect\"\n",
    "        # B_ifcorrect = \"correct\" if df.loc[q, 'CorrectAnswer'] == 'B' else \"incorrect\"\n",
    "        # C_ifcorrect = \"correct\" if df.loc[q, 'CorrectAnswer'] == 'C' else \"incorrect\"\n",
    "        # D_ifcorrect = \"correct\" if df.loc[q, 'CorrectAnswer'] == 'D' else \"incorrect\"\n",
    "        MisconceptionA = \"No matched misconception\" if pd.isna(df.loc[q, 'MisconceptionAName']) else \"Correct answer\" if df.loc[q,'CorrectAnswer']=='A' else df.loc[q,'MisconceptionAName']\n",
    "        MisconceptionB = \"No matched misconception\" if pd.isna(df.loc[q, 'MisconceptionBName']) else \"Correct answer\" if df.loc[q,'CorrectAnswer']=='B' else df.loc[q,'MisconceptionBName']\n",
    "        MisconceptionC = \"No matched misconception\" if pd.isna(df.loc[q, 'MisconceptionCName']) else \"Correct answer\" if df.loc[q,'CorrectAnswer']=='C' else df.loc[q,'MisconceptionCName']\n",
    "        MisconceptionD = \"No matched misconception\" if pd.isna(df.loc[q, 'MisconceptionDName']) else \"Correct answer\" if df.loc[q,'CorrectAnswer']=='D' else df.loc[q,'MisconceptionDName']\n",
    "        MisconceptionAId = int(df.loc[q,'MisconceptionAId']) if not pd.isna(df.loc[q,'MisconceptionAId']) else -1 \n",
    "        MisconceptionBId = int(df.loc[q,'MisconceptionBId']) if not pd.isna(df.loc[q,'MisconceptionBId']) else -1 \n",
    "        MisconceptionCId = int(df.loc[q,'MisconceptionCId']) if not pd.isna(df.loc[q,'MisconceptionCId']) else -1 \n",
    "        MisconceptionDId = int(df.loc[q,'MisconceptionDId']) if not pd.isna(df.loc[q,'MisconceptionDId']) else -1 \n",
    "        reference_mcq = f''' Question {q}\n",
    "Subject: {SubjectName}  Construct: {ConstructName}\n",
    "Question: {QuestionText}\n",
    "AnswerA: {AnswerAText}\n",
    "AnswerB: {AnswerBText}\n",
    "AnswerC: {AnswerCText}\n",
    "AnswerD: {AnswerDText}\n",
    "CorrectAnswer: {CorrectAnswer}\n",
    "Misconception A: {MisconceptionA}\n",
    "Misconception B: {MisconceptionB}\n",
    "Misconception C: {MisconceptionC}\n",
    "Misconception D: {MisconceptionD}\n",
    "        '''\n",
    "        qlist.append(reference_mcq)\n",
    "    return '\\n'.join(qlist)"
   ]
  },
  {
   "cell_type": "code",
   "execution_count": 51,
   "metadata": {
    "execution": {
     "iopub.execute_input": "2024-12-29T03:36:40.741241Z",
     "iopub.status.busy": "2024-12-29T03:36:40.740893Z",
     "iopub.status.idle": "2024-12-29T03:36:40.766279Z",
     "shell.execute_reply": "2024-12-29T03:36:40.765082Z",
     "shell.execute_reply.started": "2024-12-29T03:36:40.741214Z"
    },
    "trusted": true
   },
   "outputs": [],
   "source": [
    "def get_res(mids,rids,df): # mids is a list of missing misconceptionid, rids is a list of reference mid\n",
    "    rows = []\n",
    "    for i in mids:\n",
    "        rows.append('Misconception:' +content_df.loc[int(i),'MisconceptionName'])\n",
    "    cluster_misconceptions = '\\n'.join(rows)\n",
    "    reference_mcqs = gen_reference_mcq(rids,df) #input\n",
    "    num_mcqs = len(mids) # generate 2 questions for each misconception\n",
    "    \n",
    "    prompt = f\"\"\"You are a Mathematics teacher. Your task is to generate Multiple Choice Questions (MCQs) that diagnose the following misconceptions:\n",
    "    <misconceptions>\n",
    "    {cluster_misconceptions}\n",
    "    </misconceptions>\n",
    "\n",
    "    Here are reference MCQs that demonstrate the questions and misconceptions:\n",
    "    <reference_mcqs>\n",
    "    {reference_mcqs}\n",
    "    </reference_mcqs>\n",
    "    \n",
    "    First, analyze the reference MCQs carefully:\n",
    "    1. Understand how to derive the correct answer and how the wrong answers map to respective misconceptions\n",
    "    2. Note the style, difficulty level, and precision of language used\n",
    "    3. List misconceptions still need coverage\n",
    "    \n",
    "    Then, genrate {num_mcqs} new MCQs that diagnose misconceptions not already covered by the reference MCQs.\n",
    "    For each needed misconception, in your <reasoning> tag, show your process following these guidelines:\n",
    "    1. brainstorm mathematical contexts where it commonly appears\n",
    "    2. solve the probelm yourself and then design wrong answers leading to specific miesconceptions\n",
    "    3. Make questions challenging enough that students must demonstrate real understanding\n",
    "    4. ensure the answers are plausible and stem from genuine misconceptions, not careless errors\n",
    "    5. Use precise mathematical language matching the style of reference MCQs\n",
    "    5. Keep the construct name and subject name as short as possible\n",
    "    \n",
    "    \"\"\"\n",
    "    response = client.chat.completions.create(\n",
    "    model=datagen_model,\n",
    "    messages=[\n",
    "        {\"role\": \"system\", \"content\": \"You are a helpful assistant designed to generate synthetic data.\"},\n",
    "        {\"role\": \"user\", \"content\": prompt}\n",
    "      ]\n",
    "    )\n",
    "    res = response.choices[0].message.content\n",
    "    return res\n"
   ]
  },
  {
   "cell_type": "code",
   "execution_count": 52,
   "metadata": {
    "execution": {
     "iopub.execute_input": "2024-12-29T03:39:50.532240Z",
     "iopub.status.busy": "2024-12-29T03:39:50.531856Z",
     "iopub.status.idle": "2024-12-29T03:39:50.539060Z",
     "shell.execute_reply": "2024-12-29T03:39:50.537910Z",
     "shell.execute_reply.started": "2024-12-29T03:39:50.532209Z"
    },
    "trusted": true
   },
   "outputs": [],
   "source": [
    "def extract_data(res):\n",
    "    constructs = re.findall(r\"Construct:\\s*(.*?)\\n\", res)\n",
    "    subjects = re.findall(r\"Subject:\\s*(.*?)\\n\", res)\n",
    "    correct_answers = re.findall(r\"CorrectAnswer:\\s*(.*?)\\n\", res)\n",
    "    questions = re.findall(r\"Question:\\s*(.*?)\\n\", res)\n",
    "    AnswerA = re.findall(r\"AnswerA:(.*?)\\n\", res)\n",
    "    AnswerB = re.findall(r\"AnswerB:(.*?)\\n\", res)\n",
    "    AnswerC = re.findall(r\"AnswerC:(.*?)\\n\", res)    # Create a DataFrame\n",
    "    AnswerD = re.findall(r\"AnswerD:(.*?)\\n\", res)\n",
    "    MisconceptionA = re.findall(r\"MisconceptionA is *(.*?):\", res)\n",
    "    MisconceptionB = re.findall(r\"MisconceptionB is *(.*?):\", res)\n",
    "    MisconceptionC = re.findall(r\"MisconceptionC is *(.*?):\", res)    # Create a DataFrame\n",
    "    MisconceptionD = re.findall(r\"MisconceptionD is *(.*?):\", res)\n",
    "    df = pd.DataFrame({\n",
    "        'ConstructId': constructs,\n",
    "        'SubjectName': subjects,\n",
    "        'CorrectAnswer': correct_answers,\n",
    "        'QuestionText': questions,\n",
    "        'AnswerAText': AnswerA,\n",
    "        'AnswerBText': AnswerB,\n",
    "        'AnswerCText': AnswerC,\n",
    "        'AnswerDText': AnswerD,\n",
    "        'MisconceptionAId': MisconceptionA,\n",
    "        'MisconceptionBId': MisconceptionB,\n",
    "        'MisconceptionCId': MisconceptionC,\n",
    "        'MisconceptionDId': MisconceptionD,\n",
    "    })\n",
    "    return df"
   ]
  },
  {
   "cell_type": "markdown",
   "metadata": {
    "execution": {
     "iopub.execute_input": "2024-12-28T15:45:13.652283Z",
     "iopub.status.busy": "2024-12-28T15:45:13.651818Z",
     "iopub.status.idle": "2024-12-28T15:45:13.669479Z",
     "shell.execute_reply": "2024-12-28T15:45:13.668165Z",
     "shell.execute_reply.started": "2024-12-28T15:45:13.652247Z"
    }
   },
   "source": [
    "## 5\\ synthesize data"
   ]
  },
  {
   "cell_type": "code",
   "execution_count": 53,
   "metadata": {
    "execution": {
     "iopub.execute_input": "2024-12-29T03:39:53.022252Z",
     "iopub.status.busy": "2024-12-29T03:39:53.021835Z",
     "iopub.status.idle": "2024-12-29T03:40:17.148588Z",
     "shell.execute_reply": "2024-12-29T03:40:17.147486Z",
     "shell.execute_reply.started": "2024-12-29T03:39:53.022217Z"
    },
    "trusted": true
   },
   "outputs": [
    {
     "ename": "ValueError",
     "evalue": "All arrays must be of the same length",
     "output_type": "error",
     "traceback": [
      "\u001b[1;31m---------------------------------------------------------------------------\u001b[0m",
      "\u001b[1;31mValueError\u001b[0m                                Traceback (most recent call last)",
      "Cell \u001b[1;32mIn[53], line 12\u001b[0m\n\u001b[0;32m     10\u001b[0m res \u001b[38;5;241m=\u001b[39m get_res(mids,rids,df)\n\u001b[0;32m     11\u001b[0m res_list\u001b[38;5;241m.\u001b[39mappend(res)\n\u001b[1;32m---> 12\u001b[0m syn_df \u001b[38;5;241m=\u001b[39m extract_data(res)\n\u001b[0;32m     13\u001b[0m df_list\u001b[38;5;241m.\u001b[39mappend(syn_df)\n\u001b[0;32m     14\u001b[0m i \u001b[38;5;241m+\u001b[39m\u001b[38;5;241m=\u001b[39m BatchSize\n",
      "Cell \u001b[1;32mIn[52], line 14\u001b[0m, in \u001b[0;36mextract_data\u001b[1;34m(res)\u001b[0m\n\u001b[0;32m     12\u001b[0m MisconceptionC \u001b[38;5;241m=\u001b[39m re\u001b[38;5;241m.\u001b[39mfindall(\u001b[38;5;124mr\u001b[39m\u001b[38;5;124m\"\u001b[39m\u001b[38;5;124mMisconceptionC is *(.*?):\u001b[39m\u001b[38;5;124m\"\u001b[39m, res)    \u001b[38;5;66;03m# Create a DataFrame\u001b[39;00m\n\u001b[0;32m     13\u001b[0m MisconceptionD \u001b[38;5;241m=\u001b[39m re\u001b[38;5;241m.\u001b[39mfindall(\u001b[38;5;124mr\u001b[39m\u001b[38;5;124m\"\u001b[39m\u001b[38;5;124mMisconceptionD is *(.*?):\u001b[39m\u001b[38;5;124m\"\u001b[39m, res)\n\u001b[1;32m---> 14\u001b[0m df \u001b[38;5;241m=\u001b[39m pd\u001b[38;5;241m.\u001b[39mDataFrame({\n\u001b[0;32m     15\u001b[0m     \u001b[38;5;124m'\u001b[39m\u001b[38;5;124mConstructId\u001b[39m\u001b[38;5;124m'\u001b[39m: constructs,\n\u001b[0;32m     16\u001b[0m     \u001b[38;5;124m'\u001b[39m\u001b[38;5;124mSubjectName\u001b[39m\u001b[38;5;124m'\u001b[39m: subjects,\n\u001b[0;32m     17\u001b[0m     \u001b[38;5;124m'\u001b[39m\u001b[38;5;124mCorrectAnswer\u001b[39m\u001b[38;5;124m'\u001b[39m: correct_answers,\n\u001b[0;32m     18\u001b[0m     \u001b[38;5;124m'\u001b[39m\u001b[38;5;124mQuestionText\u001b[39m\u001b[38;5;124m'\u001b[39m: questions,\n\u001b[0;32m     19\u001b[0m     \u001b[38;5;124m'\u001b[39m\u001b[38;5;124mAnswerAText\u001b[39m\u001b[38;5;124m'\u001b[39m: AnswerA,\n\u001b[0;32m     20\u001b[0m     \u001b[38;5;124m'\u001b[39m\u001b[38;5;124mAnswerBText\u001b[39m\u001b[38;5;124m'\u001b[39m: AnswerB,\n\u001b[0;32m     21\u001b[0m     \u001b[38;5;124m'\u001b[39m\u001b[38;5;124mAnswerCText\u001b[39m\u001b[38;5;124m'\u001b[39m: AnswerC,\n\u001b[0;32m     22\u001b[0m     \u001b[38;5;124m'\u001b[39m\u001b[38;5;124mAnswerDText\u001b[39m\u001b[38;5;124m'\u001b[39m: AnswerD,\n\u001b[0;32m     23\u001b[0m     \u001b[38;5;124m'\u001b[39m\u001b[38;5;124mMisconceptionAId\u001b[39m\u001b[38;5;124m'\u001b[39m: MisconceptionA,\n\u001b[0;32m     24\u001b[0m     \u001b[38;5;124m'\u001b[39m\u001b[38;5;124mMisconceptionBId\u001b[39m\u001b[38;5;124m'\u001b[39m: MisconceptionB,\n\u001b[0;32m     25\u001b[0m     \u001b[38;5;124m'\u001b[39m\u001b[38;5;124mMisconceptionCId\u001b[39m\u001b[38;5;124m'\u001b[39m: MisconceptionC,\n\u001b[0;32m     26\u001b[0m     \u001b[38;5;124m'\u001b[39m\u001b[38;5;124mMisconceptionDId\u001b[39m\u001b[38;5;124m'\u001b[39m: MisconceptionD,\n\u001b[0;32m     27\u001b[0m })\n\u001b[0;32m     28\u001b[0m \u001b[38;5;28;01mreturn\u001b[39;00m df\n",
      "File \u001b[1;32md:\\ProgramData\\Anaconda\\Lib\\site-packages\\pandas\\core\\frame.py:733\u001b[0m, in \u001b[0;36mDataFrame.__init__\u001b[1;34m(self, data, index, columns, dtype, copy)\u001b[0m\n\u001b[0;32m    727\u001b[0m     mgr \u001b[38;5;241m=\u001b[39m \u001b[38;5;28mself\u001b[39m\u001b[38;5;241m.\u001b[39m_init_mgr(\n\u001b[0;32m    728\u001b[0m         data, axes\u001b[38;5;241m=\u001b[39m{\u001b[38;5;124m\"\u001b[39m\u001b[38;5;124mindex\u001b[39m\u001b[38;5;124m\"\u001b[39m: index, \u001b[38;5;124m\"\u001b[39m\u001b[38;5;124mcolumns\u001b[39m\u001b[38;5;124m\"\u001b[39m: columns}, dtype\u001b[38;5;241m=\u001b[39mdtype, copy\u001b[38;5;241m=\u001b[39mcopy\n\u001b[0;32m    729\u001b[0m     )\n\u001b[0;32m    731\u001b[0m \u001b[38;5;28;01melif\u001b[39;00m \u001b[38;5;28misinstance\u001b[39m(data, \u001b[38;5;28mdict\u001b[39m):\n\u001b[0;32m    732\u001b[0m     \u001b[38;5;66;03m# GH#38939 de facto copy defaults to False only in non-dict cases\u001b[39;00m\n\u001b[1;32m--> 733\u001b[0m     mgr \u001b[38;5;241m=\u001b[39m dict_to_mgr(data, index, columns, dtype\u001b[38;5;241m=\u001b[39mdtype, copy\u001b[38;5;241m=\u001b[39mcopy, typ\u001b[38;5;241m=\u001b[39mmanager)\n\u001b[0;32m    734\u001b[0m \u001b[38;5;28;01melif\u001b[39;00m \u001b[38;5;28misinstance\u001b[39m(data, ma\u001b[38;5;241m.\u001b[39mMaskedArray):\n\u001b[0;32m    735\u001b[0m     \u001b[38;5;28;01mfrom\u001b[39;00m \u001b[38;5;21;01mnumpy\u001b[39;00m\u001b[38;5;21;01m.\u001b[39;00m\u001b[38;5;21;01mma\u001b[39;00m \u001b[38;5;28;01mimport\u001b[39;00m mrecords\n",
      "File \u001b[1;32md:\\ProgramData\\Anaconda\\Lib\\site-packages\\pandas\\core\\internals\\construction.py:503\u001b[0m, in \u001b[0;36mdict_to_mgr\u001b[1;34m(data, index, columns, dtype, typ, copy)\u001b[0m\n\u001b[0;32m    499\u001b[0m     \u001b[38;5;28;01melse\u001b[39;00m:\n\u001b[0;32m    500\u001b[0m         \u001b[38;5;66;03m# dtype check to exclude e.g. range objects, scalars\u001b[39;00m\n\u001b[0;32m    501\u001b[0m         arrays \u001b[38;5;241m=\u001b[39m [x\u001b[38;5;241m.\u001b[39mcopy() \u001b[38;5;28;01mif\u001b[39;00m \u001b[38;5;28mhasattr\u001b[39m(x, \u001b[38;5;124m\"\u001b[39m\u001b[38;5;124mdtype\u001b[39m\u001b[38;5;124m\"\u001b[39m) \u001b[38;5;28;01melse\u001b[39;00m x \u001b[38;5;28;01mfor\u001b[39;00m x \u001b[38;5;129;01min\u001b[39;00m arrays]\n\u001b[1;32m--> 503\u001b[0m \u001b[38;5;28;01mreturn\u001b[39;00m arrays_to_mgr(arrays, columns, index, dtype\u001b[38;5;241m=\u001b[39mdtype, typ\u001b[38;5;241m=\u001b[39mtyp, consolidate\u001b[38;5;241m=\u001b[39mcopy)\n",
      "File \u001b[1;32md:\\ProgramData\\Anaconda\\Lib\\site-packages\\pandas\\core\\internals\\construction.py:114\u001b[0m, in \u001b[0;36marrays_to_mgr\u001b[1;34m(arrays, columns, index, dtype, verify_integrity, typ, consolidate)\u001b[0m\n\u001b[0;32m    111\u001b[0m \u001b[38;5;28;01mif\u001b[39;00m verify_integrity:\n\u001b[0;32m    112\u001b[0m     \u001b[38;5;66;03m# figure out the index, if necessary\u001b[39;00m\n\u001b[0;32m    113\u001b[0m     \u001b[38;5;28;01mif\u001b[39;00m index \u001b[38;5;129;01mis\u001b[39;00m \u001b[38;5;28;01mNone\u001b[39;00m:\n\u001b[1;32m--> 114\u001b[0m         index \u001b[38;5;241m=\u001b[39m _extract_index(arrays)\n\u001b[0;32m    115\u001b[0m     \u001b[38;5;28;01melse\u001b[39;00m:\n\u001b[0;32m    116\u001b[0m         index \u001b[38;5;241m=\u001b[39m ensure_index(index)\n",
      "File \u001b[1;32md:\\ProgramData\\Anaconda\\Lib\\site-packages\\pandas\\core\\internals\\construction.py:677\u001b[0m, in \u001b[0;36m_extract_index\u001b[1;34m(data)\u001b[0m\n\u001b[0;32m    675\u001b[0m lengths \u001b[38;5;241m=\u001b[39m \u001b[38;5;28mlist\u001b[39m(\u001b[38;5;28mset\u001b[39m(raw_lengths))\n\u001b[0;32m    676\u001b[0m \u001b[38;5;28;01mif\u001b[39;00m \u001b[38;5;28mlen\u001b[39m(lengths) \u001b[38;5;241m>\u001b[39m \u001b[38;5;241m1\u001b[39m:\n\u001b[1;32m--> 677\u001b[0m     \u001b[38;5;28;01mraise\u001b[39;00m \u001b[38;5;167;01mValueError\u001b[39;00m(\u001b[38;5;124m\"\u001b[39m\u001b[38;5;124mAll arrays must be of the same length\u001b[39m\u001b[38;5;124m\"\u001b[39m)\n\u001b[0;32m    679\u001b[0m \u001b[38;5;28;01mif\u001b[39;00m have_dicts:\n\u001b[0;32m    680\u001b[0m     \u001b[38;5;28;01mraise\u001b[39;00m \u001b[38;5;167;01mValueError\u001b[39;00m(\n\u001b[0;32m    681\u001b[0m         \u001b[38;5;124m\"\u001b[39m\u001b[38;5;124mMixing dicts with non-Series may lead to ambiguous ordering.\u001b[39m\u001b[38;5;124m\"\u001b[39m\n\u001b[0;32m    682\u001b[0m     )\n",
      "\u001b[1;31mValueError\u001b[0m: All arrays must be of the same length"
     ]
    }
   ],
   "source": [
    "i = 0\n",
    "res_list = []\n",
    "df_list = []\n",
    "misconception_ids = [int(x) for x in misconception_ids]\n",
    "missing_ids = [int(x) for x in missing_ids]\n",
    "\n",
    "while i<=len(missing_ids)//BatchSize:\n",
    "    mids = missing_ids[BatchSize*i:BatchSize*(i+1)] if BatchSize*(i+1)<=len(missing_ids) else len(missing_ids)\n",
    "    rids = misconception_ids[BatchSize*i:BatchSize*(i+1)]\n",
    "    res = get_res(mids,rids,df)\n",
    "    res_list.append(res)\n",
    "    syn_df = extract_data(res)\n",
    "    df_list.append(syn_df)\n",
    "    i += BatchSize\n",
    "    # break\n",
    "syn_dfs = pd.concat(df_list)"
   ]
  },
  {
   "cell_type": "code",
   "execution_count": 15,
   "metadata": {
    "execution": {
     "iopub.execute_input": "2024-12-29T03:51:26.982802Z",
     "iopub.status.busy": "2024-12-29T03:51:26.982396Z",
     "iopub.status.idle": "2024-12-29T03:51:26.990296Z",
     "shell.execute_reply": "2024-12-29T03:51:26.989097Z",
     "shell.execute_reply.started": "2024-12-29T03:51:26.982773Z"
    },
    "trusted": true
   },
   "outputs": [],
   "source": [
    "content_df['MisconceptionId']=content_df['MisconceptionId'].astype('int64')\n",
    "syn_dfs['MisconceptionAId']=syn_dfs['MisconceptionAId'].astype('int64')\n",
    "syn_dfs['MisconceptionBId']=syn_dfs['MisconceptionBId'].astype('int64')\n",
    "syn_dfs['MisconceptionCId']=syn_dfs['MisconceptionCId'].astype('int64')\n",
    "syn_dfs['MisconceptionDId']=syn_dfs['MisconceptionDId'].astype('int64')"
   ]
  },
  {
   "cell_type": "code",
   "execution_count": 16,
   "metadata": {
    "execution": {
     "iopub.execute_input": "2024-12-29T03:51:27.235972Z",
     "iopub.status.busy": "2024-12-29T03:51:27.235542Z",
     "iopub.status.idle": "2024-12-29T03:51:27.253098Z",
     "shell.execute_reply": "2024-12-29T03:51:27.251871Z",
     "shell.execute_reply.started": "2024-12-29T03:51:27.235921Z"
    },
    "trusted": true
   },
   "outputs": [],
   "source": [
    "syn_dfs = syn_dfs.join(content_df,on='MisconceptionAId')\n",
    "syn_dfs = syn_dfs.drop('MisconceptionId',axis=1)\n",
    "syn_dfs.columns.values[-1] = 'MisconceptionAName'\n",
    "syn_dfs = syn_dfs.join(content_df,on='MisconceptionBId')\n",
    "syn_dfs = syn_dfs.drop('MisconceptionId',axis=1)\n",
    "syn_dfs.columns.values[-1] = 'MisconceptionBName'\n",
    "syn_dfs = syn_dfs.join(content_df,on='MisconceptionCId')\n",
    "syn_dfs = syn_dfs.drop('MisconceptionId',axis=1)\n",
    "syn_dfs.columns.values[-1] = 'MisconceptionCName'\n",
    "syn_dfs = syn_dfs.join(content_df,on='MisconceptionDId')\n",
    "syn_dfs = syn_dfs.drop('MisconceptionId',axis=1)\n",
    "syn_dfs.columns.values[-1] = 'MisconceptionDName'"
   ]
  },
  {
   "cell_type": "code",
   "execution_count": 17,
   "metadata": {
    "execution": {
     "iopub.execute_input": "2024-12-29T03:52:13.054174Z",
     "iopub.status.busy": "2024-12-29T03:52:13.053779Z",
     "iopub.status.idle": "2024-12-29T03:52:13.062315Z",
     "shell.execute_reply": "2024-12-29T03:52:13.061268Z",
     "shell.execute_reply.started": "2024-12-29T03:52:13.054141Z"
    },
    "trusted": true
   },
   "outputs": [],
   "source": [
    "syn_dfs.to_csv('synthesized_data_gpt_4o.csv')"
   ]
  },
  {
   "cell_type": "code",
   "execution_count": 47,
   "metadata": {
    "trusted": true
   },
   "outputs": [],
   "source": [
    "# # debug\n",
    "# rows = []\n",
    "# i = 0\n",
    "# mids = missing_ids[BatchSize*i:BatchSize*(i+1)] if BatchSize*(i+1)<=len(missing_ids) else len(missing_ids)\n",
    "# rids = misconception_ids[BatchSize*i:BatchSize*(i+1)]\n",
    "# for i in mids:\n",
    "#     rows.append('Misconception:' +content_df.loc[int(i),'MisconceptionName'])\n",
    "# cluster_misconceptions = '\\n'.join(rows)\n",
    "# reference_mcqs = gen_reference_mcq(rids,df) #input\n",
    "# num_mcqs = len(mids) # generate 2 questions for each misconception\n",
    "\n",
    "# prompt = f\"\"\"You are a Mathematics teacher. Your task is to generate Multiple Choice Questions (MCQs) that diagnose the following misconceptions:\n",
    "# <misconceptions>\n",
    "# {cluster_misconceptions}\n",
    "# </misconceptions>\n",
    "\n",
    "# Here are reference MCQs that demonstrate the questions and misconceptions:\n",
    "# <reference_mcqs>\n",
    "# {reference_mcqs}\n",
    "# </reference_mcqs>\n",
    "\n",
    "# First, analyze the reference MCQs carefully:\n",
    "# 1. Understand how to derive the correct answer and how the wrong answers map to respective misconceptions\n",
    "# 2. Note the style, difficulty level, and precision of language used\n",
    "# 3. List misconceptions still need coverage\n",
    "\n",
    "# Then, genrate {num_mcqs} new MCQs that diagnose misconceptions not already covered by the reference MCQs.\n",
    "# For each needed misconception, in your <reasoning> tag, show your process following these guidelines:\n",
    "# 1. brainstorm mathematical contexts where it commonly appears\n",
    "# 2. solve the probelm yourself and then design wrong answers leading to specific miesconceptions\n",
    "# 3. Make questions challenging enough that students must demonstrate real understanding\n",
    "# 4. ensure the answers are plausible and stem from genuine misconceptions, not careless errors\n",
    "# 5. Use precise mathematical language matching the style of reference MCQs\n",
    "# 5. Keep the construct name and subject name as short as possible\n",
    "\n",
    "# \"\"\"\n",
    "# response = client.chat.completions.create(\n",
    "# model=datagen_model,\n",
    "# messages=[\n",
    "#     {\"role\": \"system\", \"content\": \"You are a helpful assistant designed to generate synthetic data.\"},\n",
    "#     {\"role\": \"user\", \"content\": prompt}\n",
    "#     ]\n",
    "# )\n",
    "# res = response.choices[0].message.content"
   ]
  },
  {
   "cell_type": "code",
   "execution_count": 48,
   "metadata": {},
   "outputs": [
    {
     "name": "stdout",
     "output_type": "stream",
     "text": [
      "You are a Mathematics teacher. Your task is to generate Multiple Choice Questions (MCQs) that diagnose the following misconceptions:\n",
      "<misconceptions>\n",
      "Misconception:When measuring a reflex angle, gives the acute or obtuse angle that sums to 360 instead\n",
      "Misconception:Believes gradient = change in y\n",
      "Misconception:Believes duration can be read from a timetable, rather than calculating from start and end times\n",
      "Misconception:Thinks that the side view does not include the furthest rows back\n",
      "Misconception:Does not subtract from the hours, when having to borrow for a time calculation\n",
      "</misconceptions>\n",
      "\n",
      "Here are reference MCQs that demonstrate the questions and misconceptions:\n",
      "<reference_mcqs>\n",
      " Question 0\n",
      "Subject: BIDMAS  Construct: Use the order of operations to carry out calculations involving powers\n",
      "Question: \\[\n",
      "3 \\times 2+4-5\n",
      "\\]\n",
      "Where do the brackets need to go to make the answer equal \\( 13 \\) ?\n",
      "AnswerA: \\( 3 \\times(2+4)-5 \\)\n",
      "AnswerB: \\( 3 \\times 2+(4-5) \\)\n",
      "AnswerC: \\( 3 \\times(2+4-5) \\)\n",
      "AnswerD: Does not need brackets\n",
      "CorrectAnswer: A.\n",
      "Misconception A: No matched misconception\n",
      "Misconception B: No matched misconception\n",
      "Misconception C: No matched misconception\n",
      "Misconception D: Confuses the order of operations, believes addition comes before multiplication \n",
      "        \n",
      " Question 1\n",
      "Subject: Simplifying Algebraic Fractions  Construct: Simplify an algebraic fraction by factorising the numerator\n",
      "Question: Simplify the following, if possible: \\( \\frac{m^{2}+2 m-3}{m-3} \\)\n",
      "AnswerA: \\( m+1 \\)\n",
      "AnswerB: \\( m+2 \\)\n",
      "AnswerC: \\( m-1 \\)\n",
      "AnswerD: Does not simplify\n",
      "CorrectAnswer: D.\n",
      "Misconception A: Does not know that to factorise a quadratic expression, to find two numbers that add to give the coefficient of the x term, and multiply to give the non variable term\n",
      "\n",
      "Misconception B: Thinks that when you cancel identical terms from the numerator and denominator, they just disappear\n",
      "Misconception C: Does not know that to factorise a quadratic expression, to find two numbers that add to give the coefficient of the x term, and multiply to give the non variable term\n",
      "\n",
      "Misconception D: No matched misconception\n",
      "        \n",
      " Question 2\n",
      "Subject: Range and Interquartile Range from a List of Data  Construct: Calculate the range from a list of data\n",
      "Question: Tom and Katie are discussing the \\( 5 \\) plants with these heights:\n",
      "\\( 24 \\mathrm{~cm}, 17 \\mathrm{~cm}, 42 \\mathrm{~cm}, 26 \\mathrm{~cm}, 13 \\mathrm{~cm} \\)\n",
      "Tom says if all the plants were cut in half, the range wouldn't change.\n",
      "Katie says if all the plants grew by \\( 3 \\mathrm{~cm} \\) each, the range wouldn't change.\n",
      "Who do you agree with?\n",
      "AnswerA: Only\n",
      "Tom\n",
      "AnswerB: Only\n",
      "Katie\n",
      "AnswerC: Both Tom and Katie\n",
      "AnswerD: Neither is correct\n",
      "CorrectAnswer: B.\n",
      "Misconception A: Believes if you changed all values by the same proportion the range would not change\n",
      "Misconception B: No matched misconception\n",
      "Misconception C: Believes if you changed all values by the same proportion the range would not change\n",
      "Misconception D: Believes if you add the same value to all numbers in the dataset the range will change\n",
      "        \n",
      " Question 3\n",
      "Subject: Properties of Quadrilaterals  Construct: Recall and use the intersecting diagonals properties of a rectangle\n",
      "Question: The angles highlighted on this rectangle with different length sides can never be... ![A rectangle with the diagonals drawn in. The angle on the right hand side at the centre is highlighted in red and the angle at the bottom at the centre is highlighted in yellow.]()\n",
      "AnswerA: acute\n",
      "AnswerB: obtuse\n",
      "AnswerC: \\( 90^{\\circ} \\)\n",
      "AnswerD: Not enough information\n",
      "CorrectAnswer: C.\n",
      "Misconception A: Does not know the properties of a rectangle\n",
      "Misconception B: Does not know the properties of a rectangle\n",
      "Misconception C: No matched misconception\n",
      "Misconception D: Does not know the properties of a rectangle\n",
      "        \n",
      " Question 4\n",
      "Subject: Substitution into Formula  Construct: Substitute positive integer values into formulae involving powers or roots\n",
      "Question: The equation \\( f=3 r^{2}+3 \\) is used to find values in the table below. What is the value covered by the star? \\begin{tabular}{|c|c|c|c|c|}\n",
      "\\hline\\( r \\) & \\( 1 \\) & \\( 2 \\) & \\( 3 \\) & \\( 4 \\) \\\\\n",
      "\\hline\\( f \\) & \\( 6 \\) & \\( 15 \\) & \\( \\color{gold}\\bigstar \\) & \\\\\n",
      "\\hline\n",
      "\\end{tabular}\n",
      "AnswerA: \\( 30 \\)\n",
      "AnswerB: \\( 27 \\)\n",
      "AnswerC: \\( 51 \\)\n",
      "AnswerD: \\( 24 \\)\n",
      "CorrectAnswer: A.\n",
      "Misconception A: No matched misconception\n",
      "Misconception B: No matched misconception\n",
      "Misconception C: No matched misconception\n",
      "Misconception D: Thinks you can find missing values in a given table by treating the row as linear and adding on the difference between the first two values given.\n",
      "        \n",
      "</reference_mcqs>\n",
      "\n",
      "First, analyze the reference MCQs carefully:\n",
      "1. Understand how to derive the correct answer and how the wrong answers map to respective misconceptions\n",
      "2. Note the style, difficulty level, and precision of language used\n",
      "3. List misconceptions still need coverage\n",
      "\n",
      "Then, genrate 5 new MCQs that diagnose misconceptions not already covered by the reference MCQs.\n",
      "For each needed misconception, in your <reasoning> tag, show your process following these guidelines:\n",
      "1. brainstorm mathematical contexts where it commonly appears\n",
      "2. solve the probelm yourself and then design wrong answers leading to specific miesconceptions\n",
      "3. Make questions challenging enough that students must demonstrate real understanding\n",
      "4. ensure the answers are plausible and stem from genuine misconceptions, not careless errors\n",
      "5. Use precise mathematical language matching the style of reference MCQs\n",
      "5. Keep the construct name and subject name as short as possible\n",
      "\n",
      "\n"
     ]
    }
   ],
   "source": [
    "# print(prompt)"
   ]
  },
  {
   "cell_type": "code",
   "execution_count": 49,
   "metadata": {},
   "outputs": [
    {
     "name": "stdout",
     "output_type": "stream",
     "text": [
      "<Question 5>\n",
      "Subject: Measuring Angles  Construct: Measure reflex angles\n",
      "Question: What is the measure of the reflex angle if the angle between the two lines is \\( 110^\\circ \\)?\n",
      "AnswerA: \\( 250^\\circ \\)\n",
      "AnswerB: \\( 70^\\circ \\)\n",
      "AnswerC: \\( 110^\\circ \\)\n",
      "AnswerD: \\( 180^\\circ \\)\n",
      "CorrectAnswer: A.\n",
      "Misconception A: Gives the acute angle instead of the reflex by subtracting from \\( 180^\\circ \\) (Answer B)\n",
      "Misconception B: Gives the angle as it is, without calculating the reflex angle (Answer C)\n",
      "Misconception C: Confuses the concepts of supplementary and reflex angles (Answer D)\n",
      "\n",
      "<reasoning>\n",
      "1. Reflex angles are those greater than \\(180^\\circ\\). A common mistake happens when students confuse this with the smaller angle within \\(180^\\circ\\).\n",
      "2. The correct reflex angle should sum to \\(360^\\circ\\) with the known angle: \\(360 - 110 = 250\\).\n",
      "3. I designed the incorrect answers to map to key misconceptions: B as confusion with acute or obtuse, C as literal misinterpretation, D as misconception with supplementary angles.\n",
      "4. Each incorrect answer corresponds to a student's possible misunderstanding linked to the given misconception.\n",
      "</reasoning>\n",
      "\n",
      "<Question 6>\n",
      "Subject: Calculating Gradients  Construct: Calculate gradient as rise over run\n",
      "Question: If a line on a graph goes from \\( (1, 3) \\) to \\( (4, 9) \\), what is the gradient of the line?\n",
      "AnswerA: \\( 2 \\)\n",
      "AnswerB: \\( 3 \\)\n",
      "AnswerC: \\( 6 \\)\n",
      "AnswerD: \\( 12 \\)\n",
      "CorrectAnswer: A.\n",
      "Misconception A: Believes gradient = change in y (Answer C)\n",
      "Misconception B: Confusion with multiplication of change in y with x (Answer D)\n",
      "Misconception C: Misunderstands the concept of rise over run (Answer B)\n",
      "\n",
      "<reasoning>\n",
      "1. The gradient should be calculated as \\( \\frac{{9 - 3}}{{4 - 1}} = 2 \\).\n",
      "2. Students might misinterpret this as purely the vertical change (6), see multiplying differences (12), or confuse the fraction with a direct subtraction (3).\n",
      "3. Wrong answers are designed to capture the gradient misconception of interpreting it as solely the vertical change or misinterpreting the rise-over-run concept.\n",
      "4. This ensures diagnostic validity for capturing the gradients misconception.\n",
      "</reasoning>\n",
      "\n",
      "<Question 7>\n",
      "Subject: Time Calculations  Construct: Correctly calculate duration from timetable\n",
      "Question: A bus leaves the station at \\( 13:30 \\) and arrives at its destination at \\( 16:45 \\). What is the duration of the journey?\n",
      "AnswerA: \\( 2 \\) hours \\( 15 \\) minutes\n",
      "AnswerB: \\( 2 \\) hours \\( 45 \\) minutes\n",
      "AnswerC: \\( 3 \\) hours \\( 15 \\) minutes\n",
      "AnswerD: \\( 3 \\) hours \\( 45 \\) minutes\n",
      "CorrectAnswer: C.\n",
      "Misconception A: Reads the times as 16:45 - 13:30 = 3:15 but misstates it (Answer B)\n",
      "Misconception B: Misinterprets the subtraction by reading directly from the clock without calculation (Answer A)\n",
      "Misconception C: Confuses the end time with some percentage of elapsed hour mistakenly (Answer D)\n",
      "\n",
      "<reasoning>\n",
      "1. In calculating duration, subtracting start time from end time requires attention to hour and minute units.\n",
      "2. The correct calculation: \\(16:45 - 13:30 = 3:15\\).\n",
      "3. Misconceptions often occur where students either guess or use flawed logic to subtract times incorrectly.\n",
      "4. Incorrect answers highlight common pitfalls where students either fail to convert times correctly into duration.\n",
      "</reasoning>\n",
      "\n",
      "<Question 8>\n",
      "Subject: 3D Views  Construct: Identify features in side-view diagrams\n",
      "Question: If a theater model shows 6 rows with each row having progressively higher seating, which rows can be seen from the side?\n",
      "AnswerA: Only the first row\n",
      "AnswerB: The first and last row\n",
      "AnswerC: All rows\n",
      "AnswerD: Only the first 3 rows\n",
      "CorrectAnswer: C.\n",
      "Misconception A: Thinks side view only includes initial visible row (Answer A)\n",
      "Misconception B: Incomplete inclusion of all visible rows in a side view (Answer B)\n",
      "Misconception C: Only includes rows immediately next to starting view (Answer D)\n",
      "\n",
      "<reasoning>\n",
      "1. The misconception revolves around visibility from a side and how differing heights affect what can be seen.\n",
      "2. In a side-view problem, all rows are visible due to elevation, contrary to assumption that only the closest rows visible.\n",
      "3. Incorrect answers represent genuine mistakes made about which rows visibility applies to in side-profile sketches.\n",
      "4. Understanding of elevations and projections in diagrams is a skill that gets sharpened by dealing with such misconceptions.\n",
      "</reasoning>\n",
      "\n",
      "<Question 9>\n",
      "Subject: Borrow in Time Calculations  Construct: Correctly subtract NH-MM time with borrowing\n",
      "Question: Subtract \\( 1 \\) hour \\( 45 \\) minutes from \\( 3 \\) hours \\( 20 \\) minutes.\n",
      "AnswerA: \\( 1 \\) hour \\( 35 \\) minutes\n",
      "AnswerB: \\( 2 \\) hours \\( 25 \\) minutes\n",
      "AnswerC: \\( 2 \\) hours \\( 55 \\) minutes\n",
      "AnswerD: \\( 1 \\) hour \\( 75 \\) minutes\n",
      "CorrectAnswer: A.\n",
      "Misconception A: Fails to note borrowing after minutes go negative (Answer B)\n",
      "Misconception B: Incorrectly adjusts only minutes causing summation to hold (Answer C)\n",
      "Misconception C: Fails to conceptualize negative minutes affecting hour count (Answer D)\n",
      "\n",
      "<reasoning>\n",
      "1. Time calculations often require borrowing within hours to handle insufficiency in the minutes.\n",
      "2. Correct calculation entails converting 3:20 to 2:80 and then solving: \\(80 - 45 = 35\\), so \\(2 - 1 = 1\\) hour remaining.\n",
      "3. Errors occur when students fail to borrow properly or interpret minute overflow poorly.\n",
      "4. Wrong answers reflect an authentic misunderstanding of time subtraction and borrowing procedures.\n",
      "</reasoning>\n"
     ]
    }
   ],
   "source": [
    "# print(res)"
   ]
  },
  {
   "cell_type": "code",
   "execution_count": null,
   "metadata": {},
   "outputs": [],
   "source": []
  }
 ],
 "metadata": {
  "kaggle": {
   "accelerator": "none",
   "dataSources": [
    {
     "databundleVersionId": 9738540,
     "sourceId": 82695,
     "sourceType": "competition"
    }
   ],
   "dockerImageVersionId": 30823,
   "isGpuEnabled": false,
   "isInternetEnabled": true,
   "language": "python",
   "sourceType": "notebook"
  },
  "kernelspec": {
   "display_name": "Python 3",
   "language": "python",
   "name": "python3"
  },
  "language_info": {
   "codemirror_mode": {
    "name": "ipython",
    "version": 3
   },
   "file_extension": ".py",
   "mimetype": "text/x-python",
   "name": "python",
   "nbconvert_exporter": "python",
   "pygments_lexer": "ipython3",
   "version": "3.11.7"
  }
 },
 "nbformat": 4,
 "nbformat_minor": 4
}
